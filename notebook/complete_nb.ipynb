{
 "cells": [
  {
   "cell_type": "code",
   "execution_count": 180,
   "metadata": {},
   "outputs": [],
   "source": [
    "import numpy as np\n",
    "import pandas as pd\n",
    "import seaborn as sns\n",
    "import matplotlib.pyplot as plt\n",
    "%matplotlib inline\n",
    "import warnings\n",
    "warnings.filterwarnings('ignore')"
   ]
  },
  {
   "cell_type": "code",
   "execution_count": 181,
   "metadata": {},
   "outputs": [],
   "source": [
    "## read data from csv\n",
    "\n",
    "import pandas as pd\n",
    "data_thyroid=pd.read_csv(r\"E:\\ineuron_2023\\thyroiddieaseprediction\\thyroid_disease_detection\\notebook\\data\\hypothyroid.csv\")"
   ]
  },
  {
   "cell_type": "markdown",
   "metadata": {},
   "source": [
    "### data cleaning"
   ]
  },
  {
   "cell_type": "code",
   "execution_count": 182,
   "metadata": {},
   "outputs": [
    {
     "data": {
      "text/html": [
       "<div>\n",
       "<style scoped>\n",
       "    .dataframe tbody tr th:only-of-type {\n",
       "        vertical-align: middle;\n",
       "    }\n",
       "\n",
       "    .dataframe tbody tr th {\n",
       "        vertical-align: top;\n",
       "    }\n",
       "\n",
       "    .dataframe thead th {\n",
       "        text-align: right;\n",
       "    }\n",
       "</style>\n",
       "<table border=\"1\" class=\"dataframe\">\n",
       "  <thead>\n",
       "    <tr style=\"text-align: right;\">\n",
       "      <th></th>\n",
       "      <th>age</th>\n",
       "      <th>sex</th>\n",
       "      <th>on thyroxine</th>\n",
       "      <th>query on thyroxine</th>\n",
       "      <th>on antithyroid medication</th>\n",
       "      <th>sick</th>\n",
       "      <th>pregnant</th>\n",
       "      <th>thyroid surgery</th>\n",
       "      <th>I131 treatment</th>\n",
       "      <th>query hypothyroid</th>\n",
       "      <th>...</th>\n",
       "      <th>TT4 measured</th>\n",
       "      <th>TT4</th>\n",
       "      <th>T4U measured</th>\n",
       "      <th>T4U</th>\n",
       "      <th>FTI measured</th>\n",
       "      <th>FTI</th>\n",
       "      <th>TBG measured</th>\n",
       "      <th>TBG</th>\n",
       "      <th>referral source</th>\n",
       "      <th>outcome</th>\n",
       "    </tr>\n",
       "  </thead>\n",
       "  <tbody>\n",
       "    <tr>\n",
       "      <th>0</th>\n",
       "      <td>41</td>\n",
       "      <td>F</td>\n",
       "      <td>f</td>\n",
       "      <td>f</td>\n",
       "      <td>f</td>\n",
       "      <td>f</td>\n",
       "      <td>f</td>\n",
       "      <td>f</td>\n",
       "      <td>f</td>\n",
       "      <td>f</td>\n",
       "      <td>...</td>\n",
       "      <td>t</td>\n",
       "      <td>125</td>\n",
       "      <td>t</td>\n",
       "      <td>1.14</td>\n",
       "      <td>t</td>\n",
       "      <td>109</td>\n",
       "      <td>f</td>\n",
       "      <td>?</td>\n",
       "      <td>SVHC</td>\n",
       "      <td>P</td>\n",
       "    </tr>\n",
       "    <tr>\n",
       "      <th>1</th>\n",
       "      <td>23</td>\n",
       "      <td>F</td>\n",
       "      <td>f</td>\n",
       "      <td>f</td>\n",
       "      <td>f</td>\n",
       "      <td>f</td>\n",
       "      <td>f</td>\n",
       "      <td>f</td>\n",
       "      <td>f</td>\n",
       "      <td>f</td>\n",
       "      <td>...</td>\n",
       "      <td>t</td>\n",
       "      <td>102</td>\n",
       "      <td>f</td>\n",
       "      <td>?</td>\n",
       "      <td>f</td>\n",
       "      <td>?</td>\n",
       "      <td>f</td>\n",
       "      <td>?</td>\n",
       "      <td>other</td>\n",
       "      <td>P</td>\n",
       "    </tr>\n",
       "    <tr>\n",
       "      <th>2</th>\n",
       "      <td>46</td>\n",
       "      <td>M</td>\n",
       "      <td>f</td>\n",
       "      <td>f</td>\n",
       "      <td>f</td>\n",
       "      <td>f</td>\n",
       "      <td>f</td>\n",
       "      <td>f</td>\n",
       "      <td>f</td>\n",
       "      <td>f</td>\n",
       "      <td>...</td>\n",
       "      <td>t</td>\n",
       "      <td>109</td>\n",
       "      <td>t</td>\n",
       "      <td>0.91</td>\n",
       "      <td>t</td>\n",
       "      <td>120</td>\n",
       "      <td>f</td>\n",
       "      <td>?</td>\n",
       "      <td>other</td>\n",
       "      <td>P</td>\n",
       "    </tr>\n",
       "    <tr>\n",
       "      <th>3</th>\n",
       "      <td>70</td>\n",
       "      <td>F</td>\n",
       "      <td>t</td>\n",
       "      <td>f</td>\n",
       "      <td>f</td>\n",
       "      <td>f</td>\n",
       "      <td>f</td>\n",
       "      <td>f</td>\n",
       "      <td>f</td>\n",
       "      <td>f</td>\n",
       "      <td>...</td>\n",
       "      <td>t</td>\n",
       "      <td>175</td>\n",
       "      <td>f</td>\n",
       "      <td>?</td>\n",
       "      <td>f</td>\n",
       "      <td>?</td>\n",
       "      <td>f</td>\n",
       "      <td>?</td>\n",
       "      <td>other</td>\n",
       "      <td>P</td>\n",
       "    </tr>\n",
       "    <tr>\n",
       "      <th>4</th>\n",
       "      <td>70</td>\n",
       "      <td>F</td>\n",
       "      <td>f</td>\n",
       "      <td>f</td>\n",
       "      <td>f</td>\n",
       "      <td>f</td>\n",
       "      <td>f</td>\n",
       "      <td>f</td>\n",
       "      <td>f</td>\n",
       "      <td>f</td>\n",
       "      <td>...</td>\n",
       "      <td>t</td>\n",
       "      <td>61</td>\n",
       "      <td>t</td>\n",
       "      <td>0.87</td>\n",
       "      <td>t</td>\n",
       "      <td>70</td>\n",
       "      <td>f</td>\n",
       "      <td>?</td>\n",
       "      <td>SVI</td>\n",
       "      <td>P</td>\n",
       "    </tr>\n",
       "    <tr>\n",
       "      <th>...</th>\n",
       "      <td>...</td>\n",
       "      <td>...</td>\n",
       "      <td>...</td>\n",
       "      <td>...</td>\n",
       "      <td>...</td>\n",
       "      <td>...</td>\n",
       "      <td>...</td>\n",
       "      <td>...</td>\n",
       "      <td>...</td>\n",
       "      <td>...</td>\n",
       "      <td>...</td>\n",
       "      <td>...</td>\n",
       "      <td>...</td>\n",
       "      <td>...</td>\n",
       "      <td>...</td>\n",
       "      <td>...</td>\n",
       "      <td>...</td>\n",
       "      <td>...</td>\n",
       "      <td>...</td>\n",
       "      <td>...</td>\n",
       "      <td>...</td>\n",
       "    </tr>\n",
       "    <tr>\n",
       "      <th>3767</th>\n",
       "      <td>30</td>\n",
       "      <td>F</td>\n",
       "      <td>f</td>\n",
       "      <td>f</td>\n",
       "      <td>f</td>\n",
       "      <td>f</td>\n",
       "      <td>f</td>\n",
       "      <td>f</td>\n",
       "      <td>f</td>\n",
       "      <td>f</td>\n",
       "      <td>...</td>\n",
       "      <td>f</td>\n",
       "      <td>?</td>\n",
       "      <td>f</td>\n",
       "      <td>?</td>\n",
       "      <td>f</td>\n",
       "      <td>?</td>\n",
       "      <td>f</td>\n",
       "      <td>?</td>\n",
       "      <td>other</td>\n",
       "      <td>P</td>\n",
       "    </tr>\n",
       "    <tr>\n",
       "      <th>3768</th>\n",
       "      <td>68</td>\n",
       "      <td>F</td>\n",
       "      <td>f</td>\n",
       "      <td>f</td>\n",
       "      <td>f</td>\n",
       "      <td>f</td>\n",
       "      <td>f</td>\n",
       "      <td>f</td>\n",
       "      <td>f</td>\n",
       "      <td>f</td>\n",
       "      <td>...</td>\n",
       "      <td>t</td>\n",
       "      <td>124</td>\n",
       "      <td>t</td>\n",
       "      <td>1.08</td>\n",
       "      <td>t</td>\n",
       "      <td>114</td>\n",
       "      <td>f</td>\n",
       "      <td>?</td>\n",
       "      <td>SVI</td>\n",
       "      <td>P</td>\n",
       "    </tr>\n",
       "    <tr>\n",
       "      <th>3769</th>\n",
       "      <td>74</td>\n",
       "      <td>F</td>\n",
       "      <td>f</td>\n",
       "      <td>f</td>\n",
       "      <td>f</td>\n",
       "      <td>f</td>\n",
       "      <td>f</td>\n",
       "      <td>f</td>\n",
       "      <td>f</td>\n",
       "      <td>f</td>\n",
       "      <td>...</td>\n",
       "      <td>t</td>\n",
       "      <td>112</td>\n",
       "      <td>t</td>\n",
       "      <td>1.07</td>\n",
       "      <td>t</td>\n",
       "      <td>105</td>\n",
       "      <td>f</td>\n",
       "      <td>?</td>\n",
       "      <td>other</td>\n",
       "      <td>P</td>\n",
       "    </tr>\n",
       "    <tr>\n",
       "      <th>3770</th>\n",
       "      <td>72</td>\n",
       "      <td>M</td>\n",
       "      <td>f</td>\n",
       "      <td>f</td>\n",
       "      <td>f</td>\n",
       "      <td>f</td>\n",
       "      <td>f</td>\n",
       "      <td>f</td>\n",
       "      <td>f</td>\n",
       "      <td>f</td>\n",
       "      <td>...</td>\n",
       "      <td>t</td>\n",
       "      <td>82</td>\n",
       "      <td>t</td>\n",
       "      <td>0.94</td>\n",
       "      <td>t</td>\n",
       "      <td>87</td>\n",
       "      <td>f</td>\n",
       "      <td>?</td>\n",
       "      <td>SVI</td>\n",
       "      <td>P</td>\n",
       "    </tr>\n",
       "    <tr>\n",
       "      <th>3771</th>\n",
       "      <td>64</td>\n",
       "      <td>F</td>\n",
       "      <td>f</td>\n",
       "      <td>f</td>\n",
       "      <td>f</td>\n",
       "      <td>f</td>\n",
       "      <td>f</td>\n",
       "      <td>f</td>\n",
       "      <td>f</td>\n",
       "      <td>f</td>\n",
       "      <td>...</td>\n",
       "      <td>t</td>\n",
       "      <td>99</td>\n",
       "      <td>t</td>\n",
       "      <td>1.07</td>\n",
       "      <td>t</td>\n",
       "      <td>92</td>\n",
       "      <td>f</td>\n",
       "      <td>?</td>\n",
       "      <td>other</td>\n",
       "      <td>P</td>\n",
       "    </tr>\n",
       "  </tbody>\n",
       "</table>\n",
       "<p>3772 rows × 30 columns</p>\n",
       "</div>"
      ],
      "text/plain": [
       "     age sex on thyroxine query on thyroxine on antithyroid medication sick  \\\n",
       "0     41   F            f                  f                         f    f   \n",
       "1     23   F            f                  f                         f    f   \n",
       "2     46   M            f                  f                         f    f   \n",
       "3     70   F            t                  f                         f    f   \n",
       "4     70   F            f                  f                         f    f   \n",
       "...   ..  ..          ...                ...                       ...  ...   \n",
       "3767  30   F            f                  f                         f    f   \n",
       "3768  68   F            f                  f                         f    f   \n",
       "3769  74   F            f                  f                         f    f   \n",
       "3770  72   M            f                  f                         f    f   \n",
       "3771  64   F            f                  f                         f    f   \n",
       "\n",
       "     pregnant thyroid surgery I131 treatment query hypothyroid  ...  \\\n",
       "0           f               f              f                 f  ...   \n",
       "1           f               f              f                 f  ...   \n",
       "2           f               f              f                 f  ...   \n",
       "3           f               f              f                 f  ...   \n",
       "4           f               f              f                 f  ...   \n",
       "...       ...             ...            ...               ...  ...   \n",
       "3767        f               f              f                 f  ...   \n",
       "3768        f               f              f                 f  ...   \n",
       "3769        f               f              f                 f  ...   \n",
       "3770        f               f              f                 f  ...   \n",
       "3771        f               f              f                 f  ...   \n",
       "\n",
       "     TT4 measured  TT4 T4U measured   T4U FTI measured  FTI TBG measured TBG  \\\n",
       "0               t  125            t  1.14            t  109            f   ?   \n",
       "1               t  102            f     ?            f    ?            f   ?   \n",
       "2               t  109            t  0.91            t  120            f   ?   \n",
       "3               t  175            f     ?            f    ?            f   ?   \n",
       "4               t   61            t  0.87            t   70            f   ?   \n",
       "...           ...  ...          ...   ...          ...  ...          ...  ..   \n",
       "3767            f    ?            f     ?            f    ?            f   ?   \n",
       "3768            t  124            t  1.08            t  114            f   ?   \n",
       "3769            t  112            t  1.07            t  105            f   ?   \n",
       "3770            t   82            t  0.94            t   87            f   ?   \n",
       "3771            t   99            t  1.07            t   92            f   ?   \n",
       "\n",
       "     referral source outcome  \n",
       "0               SVHC       P  \n",
       "1              other       P  \n",
       "2              other       P  \n",
       "3              other       P  \n",
       "4                SVI       P  \n",
       "...              ...     ...  \n",
       "3767           other       P  \n",
       "3768             SVI       P  \n",
       "3769           other       P  \n",
       "3770             SVI       P  \n",
       "3771           other       P  \n",
       "\n",
       "[3772 rows x 30 columns]"
      ]
     },
     "execution_count": 182,
     "metadata": {},
     "output_type": "execute_result"
    }
   ],
   "source": [
    "data_thyroid.rename(columns={'binaryClass':'outcome'},inplace=True)\n",
    "data_thyroid"
   ]
  },
  {
   "cell_type": "code",
   "execution_count": null,
   "metadata": {},
   "outputs": [],
   "source": []
  },
  {
   "cell_type": "code",
   "execution_count": 183,
   "metadata": {},
   "outputs": [
    {
     "data": {
      "text/html": [
       "<div>\n",
       "<style scoped>\n",
       "    .dataframe tbody tr th:only-of-type {\n",
       "        vertical-align: middle;\n",
       "    }\n",
       "\n",
       "    .dataframe tbody tr th {\n",
       "        vertical-align: top;\n",
       "    }\n",
       "\n",
       "    .dataframe thead th {\n",
       "        text-align: right;\n",
       "    }\n",
       "</style>\n",
       "<table border=\"1\" class=\"dataframe\">\n",
       "  <thead>\n",
       "    <tr style=\"text-align: right;\">\n",
       "      <th></th>\n",
       "      <th>age</th>\n",
       "      <th>sex</th>\n",
       "      <th>on thyroxine</th>\n",
       "      <th>query on thyroxine</th>\n",
       "      <th>on antithyroid medication</th>\n",
       "      <th>sick</th>\n",
       "      <th>pregnant</th>\n",
       "      <th>thyroid surgery</th>\n",
       "      <th>I131 treatment</th>\n",
       "      <th>query hypothyroid</th>\n",
       "      <th>...</th>\n",
       "      <th>TT4 measured</th>\n",
       "      <th>TT4</th>\n",
       "      <th>T4U measured</th>\n",
       "      <th>T4U</th>\n",
       "      <th>FTI measured</th>\n",
       "      <th>FTI</th>\n",
       "      <th>TBG measured</th>\n",
       "      <th>TBG</th>\n",
       "      <th>referral source</th>\n",
       "      <th>outcome</th>\n",
       "    </tr>\n",
       "  </thead>\n",
       "  <tbody>\n",
       "    <tr>\n",
       "      <th>0</th>\n",
       "      <td>41</td>\n",
       "      <td>F</td>\n",
       "      <td>f</td>\n",
       "      <td>f</td>\n",
       "      <td>f</td>\n",
       "      <td>f</td>\n",
       "      <td>f</td>\n",
       "      <td>f</td>\n",
       "      <td>f</td>\n",
       "      <td>f</td>\n",
       "      <td>...</td>\n",
       "      <td>t</td>\n",
       "      <td>125</td>\n",
       "      <td>t</td>\n",
       "      <td>1.14</td>\n",
       "      <td>t</td>\n",
       "      <td>109</td>\n",
       "      <td>f</td>\n",
       "      <td>NaN</td>\n",
       "      <td>SVHC</td>\n",
       "      <td>P</td>\n",
       "    </tr>\n",
       "    <tr>\n",
       "      <th>1</th>\n",
       "      <td>23</td>\n",
       "      <td>F</td>\n",
       "      <td>f</td>\n",
       "      <td>f</td>\n",
       "      <td>f</td>\n",
       "      <td>f</td>\n",
       "      <td>f</td>\n",
       "      <td>f</td>\n",
       "      <td>f</td>\n",
       "      <td>f</td>\n",
       "      <td>...</td>\n",
       "      <td>t</td>\n",
       "      <td>102</td>\n",
       "      <td>f</td>\n",
       "      <td>NaN</td>\n",
       "      <td>f</td>\n",
       "      <td>NaN</td>\n",
       "      <td>f</td>\n",
       "      <td>NaN</td>\n",
       "      <td>other</td>\n",
       "      <td>P</td>\n",
       "    </tr>\n",
       "    <tr>\n",
       "      <th>2</th>\n",
       "      <td>46</td>\n",
       "      <td>M</td>\n",
       "      <td>f</td>\n",
       "      <td>f</td>\n",
       "      <td>f</td>\n",
       "      <td>f</td>\n",
       "      <td>f</td>\n",
       "      <td>f</td>\n",
       "      <td>f</td>\n",
       "      <td>f</td>\n",
       "      <td>...</td>\n",
       "      <td>t</td>\n",
       "      <td>109</td>\n",
       "      <td>t</td>\n",
       "      <td>0.91</td>\n",
       "      <td>t</td>\n",
       "      <td>120</td>\n",
       "      <td>f</td>\n",
       "      <td>NaN</td>\n",
       "      <td>other</td>\n",
       "      <td>P</td>\n",
       "    </tr>\n",
       "    <tr>\n",
       "      <th>3</th>\n",
       "      <td>70</td>\n",
       "      <td>F</td>\n",
       "      <td>t</td>\n",
       "      <td>f</td>\n",
       "      <td>f</td>\n",
       "      <td>f</td>\n",
       "      <td>f</td>\n",
       "      <td>f</td>\n",
       "      <td>f</td>\n",
       "      <td>f</td>\n",
       "      <td>...</td>\n",
       "      <td>t</td>\n",
       "      <td>175</td>\n",
       "      <td>f</td>\n",
       "      <td>NaN</td>\n",
       "      <td>f</td>\n",
       "      <td>NaN</td>\n",
       "      <td>f</td>\n",
       "      <td>NaN</td>\n",
       "      <td>other</td>\n",
       "      <td>P</td>\n",
       "    </tr>\n",
       "    <tr>\n",
       "      <th>4</th>\n",
       "      <td>70</td>\n",
       "      <td>F</td>\n",
       "      <td>f</td>\n",
       "      <td>f</td>\n",
       "      <td>f</td>\n",
       "      <td>f</td>\n",
       "      <td>f</td>\n",
       "      <td>f</td>\n",
       "      <td>f</td>\n",
       "      <td>f</td>\n",
       "      <td>...</td>\n",
       "      <td>t</td>\n",
       "      <td>61</td>\n",
       "      <td>t</td>\n",
       "      <td>0.87</td>\n",
       "      <td>t</td>\n",
       "      <td>70</td>\n",
       "      <td>f</td>\n",
       "      <td>NaN</td>\n",
       "      <td>SVI</td>\n",
       "      <td>P</td>\n",
       "    </tr>\n",
       "    <tr>\n",
       "      <th>...</th>\n",
       "      <td>...</td>\n",
       "      <td>...</td>\n",
       "      <td>...</td>\n",
       "      <td>...</td>\n",
       "      <td>...</td>\n",
       "      <td>...</td>\n",
       "      <td>...</td>\n",
       "      <td>...</td>\n",
       "      <td>...</td>\n",
       "      <td>...</td>\n",
       "      <td>...</td>\n",
       "      <td>...</td>\n",
       "      <td>...</td>\n",
       "      <td>...</td>\n",
       "      <td>...</td>\n",
       "      <td>...</td>\n",
       "      <td>...</td>\n",
       "      <td>...</td>\n",
       "      <td>...</td>\n",
       "      <td>...</td>\n",
       "      <td>...</td>\n",
       "    </tr>\n",
       "    <tr>\n",
       "      <th>3767</th>\n",
       "      <td>30</td>\n",
       "      <td>F</td>\n",
       "      <td>f</td>\n",
       "      <td>f</td>\n",
       "      <td>f</td>\n",
       "      <td>f</td>\n",
       "      <td>f</td>\n",
       "      <td>f</td>\n",
       "      <td>f</td>\n",
       "      <td>f</td>\n",
       "      <td>...</td>\n",
       "      <td>f</td>\n",
       "      <td>NaN</td>\n",
       "      <td>f</td>\n",
       "      <td>NaN</td>\n",
       "      <td>f</td>\n",
       "      <td>NaN</td>\n",
       "      <td>f</td>\n",
       "      <td>NaN</td>\n",
       "      <td>other</td>\n",
       "      <td>P</td>\n",
       "    </tr>\n",
       "    <tr>\n",
       "      <th>3768</th>\n",
       "      <td>68</td>\n",
       "      <td>F</td>\n",
       "      <td>f</td>\n",
       "      <td>f</td>\n",
       "      <td>f</td>\n",
       "      <td>f</td>\n",
       "      <td>f</td>\n",
       "      <td>f</td>\n",
       "      <td>f</td>\n",
       "      <td>f</td>\n",
       "      <td>...</td>\n",
       "      <td>t</td>\n",
       "      <td>124</td>\n",
       "      <td>t</td>\n",
       "      <td>1.08</td>\n",
       "      <td>t</td>\n",
       "      <td>114</td>\n",
       "      <td>f</td>\n",
       "      <td>NaN</td>\n",
       "      <td>SVI</td>\n",
       "      <td>P</td>\n",
       "    </tr>\n",
       "    <tr>\n",
       "      <th>3769</th>\n",
       "      <td>74</td>\n",
       "      <td>F</td>\n",
       "      <td>f</td>\n",
       "      <td>f</td>\n",
       "      <td>f</td>\n",
       "      <td>f</td>\n",
       "      <td>f</td>\n",
       "      <td>f</td>\n",
       "      <td>f</td>\n",
       "      <td>f</td>\n",
       "      <td>...</td>\n",
       "      <td>t</td>\n",
       "      <td>112</td>\n",
       "      <td>t</td>\n",
       "      <td>1.07</td>\n",
       "      <td>t</td>\n",
       "      <td>105</td>\n",
       "      <td>f</td>\n",
       "      <td>NaN</td>\n",
       "      <td>other</td>\n",
       "      <td>P</td>\n",
       "    </tr>\n",
       "    <tr>\n",
       "      <th>3770</th>\n",
       "      <td>72</td>\n",
       "      <td>M</td>\n",
       "      <td>f</td>\n",
       "      <td>f</td>\n",
       "      <td>f</td>\n",
       "      <td>f</td>\n",
       "      <td>f</td>\n",
       "      <td>f</td>\n",
       "      <td>f</td>\n",
       "      <td>f</td>\n",
       "      <td>...</td>\n",
       "      <td>t</td>\n",
       "      <td>82</td>\n",
       "      <td>t</td>\n",
       "      <td>0.94</td>\n",
       "      <td>t</td>\n",
       "      <td>87</td>\n",
       "      <td>f</td>\n",
       "      <td>NaN</td>\n",
       "      <td>SVI</td>\n",
       "      <td>P</td>\n",
       "    </tr>\n",
       "    <tr>\n",
       "      <th>3771</th>\n",
       "      <td>64</td>\n",
       "      <td>F</td>\n",
       "      <td>f</td>\n",
       "      <td>f</td>\n",
       "      <td>f</td>\n",
       "      <td>f</td>\n",
       "      <td>f</td>\n",
       "      <td>f</td>\n",
       "      <td>f</td>\n",
       "      <td>f</td>\n",
       "      <td>...</td>\n",
       "      <td>t</td>\n",
       "      <td>99</td>\n",
       "      <td>t</td>\n",
       "      <td>1.07</td>\n",
       "      <td>t</td>\n",
       "      <td>92</td>\n",
       "      <td>f</td>\n",
       "      <td>NaN</td>\n",
       "      <td>other</td>\n",
       "      <td>P</td>\n",
       "    </tr>\n",
       "  </tbody>\n",
       "</table>\n",
       "<p>3772 rows × 30 columns</p>\n",
       "</div>"
      ],
      "text/plain": [
       "     age sex on thyroxine query on thyroxine on antithyroid medication sick  \\\n",
       "0     41   F            f                  f                         f    f   \n",
       "1     23   F            f                  f                         f    f   \n",
       "2     46   M            f                  f                         f    f   \n",
       "3     70   F            t                  f                         f    f   \n",
       "4     70   F            f                  f                         f    f   \n",
       "...   ..  ..          ...                ...                       ...  ...   \n",
       "3767  30   F            f                  f                         f    f   \n",
       "3768  68   F            f                  f                         f    f   \n",
       "3769  74   F            f                  f                         f    f   \n",
       "3770  72   M            f                  f                         f    f   \n",
       "3771  64   F            f                  f                         f    f   \n",
       "\n",
       "     pregnant thyroid surgery I131 treatment query hypothyroid  ...  \\\n",
       "0           f               f              f                 f  ...   \n",
       "1           f               f              f                 f  ...   \n",
       "2           f               f              f                 f  ...   \n",
       "3           f               f              f                 f  ...   \n",
       "4           f               f              f                 f  ...   \n",
       "...       ...             ...            ...               ...  ...   \n",
       "3767        f               f              f                 f  ...   \n",
       "3768        f               f              f                 f  ...   \n",
       "3769        f               f              f                 f  ...   \n",
       "3770        f               f              f                 f  ...   \n",
       "3771        f               f              f                 f  ...   \n",
       "\n",
       "     TT4 measured  TT4 T4U measured   T4U FTI measured  FTI TBG measured TBG  \\\n",
       "0               t  125            t  1.14            t  109            f NaN   \n",
       "1               t  102            f   NaN            f  NaN            f NaN   \n",
       "2               t  109            t  0.91            t  120            f NaN   \n",
       "3               t  175            f   NaN            f  NaN            f NaN   \n",
       "4               t   61            t  0.87            t   70            f NaN   \n",
       "...           ...  ...          ...   ...          ...  ...          ...  ..   \n",
       "3767            f  NaN            f   NaN            f  NaN            f NaN   \n",
       "3768            t  124            t  1.08            t  114            f NaN   \n",
       "3769            t  112            t  1.07            t  105            f NaN   \n",
       "3770            t   82            t  0.94            t   87            f NaN   \n",
       "3771            t   99            t  1.07            t   92            f NaN   \n",
       "\n",
       "     referral source outcome  \n",
       "0               SVHC       P  \n",
       "1              other       P  \n",
       "2              other       P  \n",
       "3              other       P  \n",
       "4                SVI       P  \n",
       "...              ...     ...  \n",
       "3767           other       P  \n",
       "3768             SVI       P  \n",
       "3769           other       P  \n",
       "3770             SVI       P  \n",
       "3771           other       P  \n",
       "\n",
       "[3772 rows x 30 columns]"
      ]
     },
     "execution_count": 183,
     "metadata": {},
     "output_type": "execute_result"
    }
   ],
   "source": [
    "data_thyroid.replace('?',np.nan,inplace=True)\n",
    "data_thyroid"
   ]
  },
  {
   "cell_type": "code",
   "execution_count": 184,
   "metadata": {},
   "outputs": [],
   "source": [
    "# Assuming 'data_thyroid' is your DataFrame\n",
    "\n",
    "# Columns to drop \n",
    "columns_to_drop = [\"goitre\", \"referral source\", \"on antithyroid medication\", \"thyroid surgery\", \"T3 measured\",\n",
    "                   \"TT4 measured\", \"query hyperthyroid\", \"age\", \"query on thyroxine\", \"lithium\", \"T4U measured\",\n",
    "                   \"T4U\", \"FTI measured\", \"hypopituitary\", \"tumor\", \"I131 treatment\", \"sick\", \"TBG measured\", \"TBG\"]\n",
    "\n",
    "\n",
    "\n",
    "# Drop the specified columns\n",
    "data_thyroid.drop(columns=columns_to_drop, axis=1, inplace=True)\n",
    "\n",
    "\n",
    "\n"
   ]
  },
  {
   "cell_type": "code",
   "execution_count": 185,
   "metadata": {},
   "outputs": [
    {
     "name": "stdout",
     "output_type": "stream",
     "text": [
      "Index(['sex', 'on thyroxine', 'pregnant', 'query hypothyroid', 'psych',\n",
      "       'TSH measured', 'TSH', 'T3', 'TT4', 'FTI', 'outcome'],\n",
      "      dtype='object')\n"
     ]
    }
   ],
   "source": [
    "print(data_thyroid.columns)\n"
   ]
  },
  {
   "cell_type": "code",
   "execution_count": 186,
   "metadata": {},
   "outputs": [
    {
     "data": {
      "text/html": [
       "<div>\n",
       "<style scoped>\n",
       "    .dataframe tbody tr th:only-of-type {\n",
       "        vertical-align: middle;\n",
       "    }\n",
       "\n",
       "    .dataframe tbody tr th {\n",
       "        vertical-align: top;\n",
       "    }\n",
       "\n",
       "    .dataframe thead th {\n",
       "        text-align: right;\n",
       "    }\n",
       "</style>\n",
       "<table border=\"1\" class=\"dataframe\">\n",
       "  <thead>\n",
       "    <tr style=\"text-align: right;\">\n",
       "      <th></th>\n",
       "      <th>sex</th>\n",
       "      <th>on thyroxine</th>\n",
       "      <th>pregnant</th>\n",
       "      <th>query hypothyroid</th>\n",
       "      <th>psych</th>\n",
       "      <th>TSH measured</th>\n",
       "      <th>TSH</th>\n",
       "      <th>T3</th>\n",
       "      <th>TT4</th>\n",
       "      <th>FTI</th>\n",
       "      <th>outcome</th>\n",
       "    </tr>\n",
       "  </thead>\n",
       "  <tbody>\n",
       "    <tr>\n",
       "      <th>0</th>\n",
       "      <td>F</td>\n",
       "      <td>f</td>\n",
       "      <td>f</td>\n",
       "      <td>f</td>\n",
       "      <td>f</td>\n",
       "      <td>t</td>\n",
       "      <td>1.3</td>\n",
       "      <td>2.5</td>\n",
       "      <td>125</td>\n",
       "      <td>109</td>\n",
       "      <td>P</td>\n",
       "    </tr>\n",
       "    <tr>\n",
       "      <th>1</th>\n",
       "      <td>F</td>\n",
       "      <td>f</td>\n",
       "      <td>f</td>\n",
       "      <td>f</td>\n",
       "      <td>f</td>\n",
       "      <td>t</td>\n",
       "      <td>4.1</td>\n",
       "      <td>2</td>\n",
       "      <td>102</td>\n",
       "      <td>NaN</td>\n",
       "      <td>P</td>\n",
       "    </tr>\n",
       "    <tr>\n",
       "      <th>2</th>\n",
       "      <td>M</td>\n",
       "      <td>f</td>\n",
       "      <td>f</td>\n",
       "      <td>f</td>\n",
       "      <td>f</td>\n",
       "      <td>t</td>\n",
       "      <td>0.98</td>\n",
       "      <td>NaN</td>\n",
       "      <td>109</td>\n",
       "      <td>120</td>\n",
       "      <td>P</td>\n",
       "    </tr>\n",
       "    <tr>\n",
       "      <th>3</th>\n",
       "      <td>F</td>\n",
       "      <td>t</td>\n",
       "      <td>f</td>\n",
       "      <td>f</td>\n",
       "      <td>f</td>\n",
       "      <td>t</td>\n",
       "      <td>0.16</td>\n",
       "      <td>1.9</td>\n",
       "      <td>175</td>\n",
       "      <td>NaN</td>\n",
       "      <td>P</td>\n",
       "    </tr>\n",
       "    <tr>\n",
       "      <th>4</th>\n",
       "      <td>F</td>\n",
       "      <td>f</td>\n",
       "      <td>f</td>\n",
       "      <td>f</td>\n",
       "      <td>f</td>\n",
       "      <td>t</td>\n",
       "      <td>0.72</td>\n",
       "      <td>1.2</td>\n",
       "      <td>61</td>\n",
       "      <td>70</td>\n",
       "      <td>P</td>\n",
       "    </tr>\n",
       "  </tbody>\n",
       "</table>\n",
       "</div>"
      ],
      "text/plain": [
       "  sex on thyroxine pregnant query hypothyroid psych TSH measured   TSH   T3  \\\n",
       "0   F            f        f                 f     f            t   1.3  2.5   \n",
       "1   F            f        f                 f     f            t   4.1    2   \n",
       "2   M            f        f                 f     f            t  0.98  NaN   \n",
       "3   F            t        f                 f     f            t  0.16  1.9   \n",
       "4   F            f        f                 f     f            t  0.72  1.2   \n",
       "\n",
       "   TT4  FTI outcome  \n",
       "0  125  109       P  \n",
       "1  102  NaN       P  \n",
       "2  109  120       P  \n",
       "3  175  NaN       P  \n",
       "4   61   70       P  "
      ]
     },
     "execution_count": 186,
     "metadata": {},
     "output_type": "execute_result"
    }
   ],
   "source": [
    "data_thyroid.head()"
   ]
  },
  {
   "cell_type": "code",
   "execution_count": 187,
   "metadata": {},
   "outputs": [
    {
     "data": {
      "text/html": [
       "<div>\n",
       "<style scoped>\n",
       "    .dataframe tbody tr th:only-of-type {\n",
       "        vertical-align: middle;\n",
       "    }\n",
       "\n",
       "    .dataframe tbody tr th {\n",
       "        vertical-align: top;\n",
       "    }\n",
       "\n",
       "    .dataframe thead th {\n",
       "        text-align: right;\n",
       "    }\n",
       "</style>\n",
       "<table border=\"1\" class=\"dataframe\">\n",
       "  <thead>\n",
       "    <tr style=\"text-align: right;\">\n",
       "      <th></th>\n",
       "      <th>sex</th>\n",
       "      <th>on thyroxine</th>\n",
       "      <th>pregnant</th>\n",
       "      <th>query hypothyroid</th>\n",
       "      <th>psych</th>\n",
       "      <th>TSH measured</th>\n",
       "      <th>TSH</th>\n",
       "      <th>T3</th>\n",
       "      <th>TT4</th>\n",
       "      <th>FTI</th>\n",
       "      <th>outcome</th>\n",
       "    </tr>\n",
       "  </thead>\n",
       "  <tbody>\n",
       "    <tr>\n",
       "      <th>3767</th>\n",
       "      <td>F</td>\n",
       "      <td>f</td>\n",
       "      <td>f</td>\n",
       "      <td>f</td>\n",
       "      <td>f</td>\n",
       "      <td>f</td>\n",
       "      <td>NaN</td>\n",
       "      <td>NaN</td>\n",
       "      <td>NaN</td>\n",
       "      <td>NaN</td>\n",
       "      <td>P</td>\n",
       "    </tr>\n",
       "    <tr>\n",
       "      <th>3768</th>\n",
       "      <td>F</td>\n",
       "      <td>f</td>\n",
       "      <td>f</td>\n",
       "      <td>f</td>\n",
       "      <td>f</td>\n",
       "      <td>t</td>\n",
       "      <td>1</td>\n",
       "      <td>2.1</td>\n",
       "      <td>124</td>\n",
       "      <td>114</td>\n",
       "      <td>P</td>\n",
       "    </tr>\n",
       "    <tr>\n",
       "      <th>3769</th>\n",
       "      <td>F</td>\n",
       "      <td>f</td>\n",
       "      <td>f</td>\n",
       "      <td>f</td>\n",
       "      <td>f</td>\n",
       "      <td>t</td>\n",
       "      <td>5.1</td>\n",
       "      <td>1.8</td>\n",
       "      <td>112</td>\n",
       "      <td>105</td>\n",
       "      <td>P</td>\n",
       "    </tr>\n",
       "    <tr>\n",
       "      <th>3770</th>\n",
       "      <td>M</td>\n",
       "      <td>f</td>\n",
       "      <td>f</td>\n",
       "      <td>f</td>\n",
       "      <td>f</td>\n",
       "      <td>t</td>\n",
       "      <td>0.7</td>\n",
       "      <td>2</td>\n",
       "      <td>82</td>\n",
       "      <td>87</td>\n",
       "      <td>P</td>\n",
       "    </tr>\n",
       "    <tr>\n",
       "      <th>3771</th>\n",
       "      <td>F</td>\n",
       "      <td>f</td>\n",
       "      <td>f</td>\n",
       "      <td>f</td>\n",
       "      <td>f</td>\n",
       "      <td>t</td>\n",
       "      <td>1</td>\n",
       "      <td>2.2</td>\n",
       "      <td>99</td>\n",
       "      <td>92</td>\n",
       "      <td>P</td>\n",
       "    </tr>\n",
       "  </tbody>\n",
       "</table>\n",
       "</div>"
      ],
      "text/plain": [
       "     sex on thyroxine pregnant query hypothyroid psych TSH measured  TSH   T3  \\\n",
       "3767   F            f        f                 f     f            f  NaN  NaN   \n",
       "3768   F            f        f                 f     f            t    1  2.1   \n",
       "3769   F            f        f                 f     f            t  5.1  1.8   \n",
       "3770   M            f        f                 f     f            t  0.7    2   \n",
       "3771   F            f        f                 f     f            t    1  2.2   \n",
       "\n",
       "      TT4  FTI outcome  \n",
       "3767  NaN  NaN       P  \n",
       "3768  124  114       P  \n",
       "3769  112  105       P  \n",
       "3770   82   87       P  \n",
       "3771   99   92       P  "
      ]
     },
     "execution_count": 187,
     "metadata": {},
     "output_type": "execute_result"
    }
   ],
   "source": [
    "data_thyroid.tail()"
   ]
  },
  {
   "cell_type": "code",
   "execution_count": 188,
   "metadata": {},
   "outputs": [
    {
     "name": "stdout",
     "output_type": "stream",
     "text": [
      "<class 'pandas.core.frame.DataFrame'>\n",
      "RangeIndex: 3772 entries, 0 to 3771\n",
      "Data columns (total 11 columns):\n",
      " #   Column             Non-Null Count  Dtype \n",
      "---  ------             --------------  ----- \n",
      " 0   sex                3622 non-null   object\n",
      " 1   on thyroxine       3772 non-null   object\n",
      " 2   pregnant           3772 non-null   object\n",
      " 3   query hypothyroid  3772 non-null   object\n",
      " 4   psych              3772 non-null   object\n",
      " 5   TSH measured       3772 non-null   object\n",
      " 6   TSH                3403 non-null   object\n",
      " 7   T3                 3003 non-null   object\n",
      " 8   TT4                3541 non-null   object\n",
      " 9   FTI                3387 non-null   object\n",
      " 10  outcome            3772 non-null   object\n",
      "dtypes: object(11)\n",
      "memory usage: 324.3+ KB\n"
     ]
    }
   ],
   "source": [
    "data_thyroid.info()"
   ]
  },
  {
   "cell_type": "code",
   "execution_count": 189,
   "metadata": {},
   "outputs": [
    {
     "data": {
      "text/plain": [
       "(3772, 11)"
      ]
     },
     "execution_count": 189,
     "metadata": {},
     "output_type": "execute_result"
    }
   ],
   "source": [
    "data_thyroid.shape"
   ]
  },
  {
   "cell_type": "code",
   "execution_count": 190,
   "metadata": {},
   "outputs": [
    {
     "name": "stdout",
     "output_type": "stream",
     "text": [
      "         sex on thyroxine pregnant query hypothyroid psych TSH measured  \\\n",
      "count   3622         3772     3772              3772  3772         3772   \n",
      "unique     2            2        2                 2     2            2   \n",
      "top        F            f        f                 f     f            t   \n",
      "freq    2480         3308     3719              3538  3588         3403   \n",
      "mean     NaN          NaN      NaN               NaN   NaN          NaN   \n",
      "std      NaN          NaN      NaN               NaN   NaN          NaN   \n",
      "min      NaN          NaN      NaN               NaN   NaN          NaN   \n",
      "25%      NaN          NaN      NaN               NaN   NaN          NaN   \n",
      "50%      NaN          NaN      NaN               NaN   NaN          NaN   \n",
      "75%      NaN          NaN      NaN               NaN   NaN          NaN   \n",
      "max      NaN          NaN      NaN               NaN   NaN          NaN   \n",
      "\n",
      "                TSH           T3          TT4          FTI outcome  \n",
      "count   3403.000000  3003.000000  3541.000000  3387.000000    3772  \n",
      "unique          NaN          NaN          NaN          NaN       2  \n",
      "top             NaN          NaN          NaN          NaN       P  \n",
      "freq            NaN          NaN          NaN          NaN    3481  \n",
      "mean       5.086766     2.013500   108.319345   110.469649     NaN  \n",
      "std       24.521470     0.827434    35.604248    33.089698     NaN  \n",
      "min        0.005000     0.050000     2.000000     2.000000     NaN  \n",
      "25%        0.500000     1.600000    88.000000    93.000000     NaN  \n",
      "50%        1.400000     2.000000   103.000000   107.000000     NaN  \n",
      "75%        2.700000     2.400000   124.000000   124.000000     NaN  \n",
      "max      530.000000    10.600000   430.000000   395.000000     NaN  \n"
     ]
    }
   ],
   "source": [
    "# List of numeric columns\n",
    "numeric_columns = ['TSH', 'T3', 'TT4', 'FTI']\n",
    "\n",
    "# Convert numeric columns to numeric types\n",
    "data_thyroid[numeric_columns] = data_thyroid[numeric_columns].apply(pd.to_numeric, errors='coerce')\n",
    "\n",
    "# Describe the DataFrame\n",
    "description = data_thyroid.describe(include='all')\n",
    "print(description)\n",
    "\n"
   ]
  },
  {
   "cell_type": "code",
   "execution_count": 191,
   "metadata": {},
   "outputs": [
    {
     "name": "stdout",
     "output_type": "stream",
     "text": [
      "<class 'pandas.core.frame.DataFrame'>\n",
      "RangeIndex: 3772 entries, 0 to 3771\n",
      "Data columns (total 11 columns):\n",
      " #   Column             Non-Null Count  Dtype  \n",
      "---  ------             --------------  -----  \n",
      " 0   sex                3622 non-null   object \n",
      " 1   on thyroxine       3772 non-null   object \n",
      " 2   pregnant           3772 non-null   object \n",
      " 3   query hypothyroid  3772 non-null   object \n",
      " 4   psych              3772 non-null   object \n",
      " 5   TSH measured       3772 non-null   object \n",
      " 6   TSH                3403 non-null   float64\n",
      " 7   T3                 3003 non-null   float64\n",
      " 8   TT4                3541 non-null   float64\n",
      " 9   FTI                3387 non-null   float64\n",
      " 10  outcome            3772 non-null   object \n",
      "dtypes: float64(4), object(7)\n",
      "memory usage: 324.3+ KB\n"
     ]
    }
   ],
   "source": [
    "data_thyroid.info()"
   ]
  },
  {
   "cell_type": "code",
   "execution_count": 192,
   "metadata": {},
   "outputs": [
    {
     "name": "stdout",
     "output_type": "stream",
     "text": [
      "['F' 'M' nan]\n"
     ]
    }
   ],
   "source": [
    "unique_values_sex = data_thyroid['sex'].unique()\n",
    "print(unique_values_sex)"
   ]
  },
  {
   "cell_type": "code",
   "execution_count": 193,
   "metadata": {},
   "outputs": [
    {
     "name": "stdout",
     "output_type": "stream",
     "text": [
      "['P' 'N']\n"
     ]
    }
   ],
   "source": [
    "unique_values_outcome = data_thyroid['outcome'].unique()\n",
    "print(unique_values_outcome)"
   ]
  },
  {
   "cell_type": "code",
   "execution_count": 194,
   "metadata": {},
   "outputs": [
    {
     "data": {
      "text/plain": [
       "sex                    2\n",
       "on thyroxine           2\n",
       "pregnant               2\n",
       "query hypothyroid      2\n",
       "psych                  2\n",
       "TSH measured           2\n",
       "TSH                  287\n",
       "T3                    69\n",
       "TT4                  241\n",
       "FTI                  234\n",
       "outcome                2\n",
       "dtype: int64"
      ]
     },
     "execution_count": 194,
     "metadata": {},
     "output_type": "execute_result"
    }
   ],
   "source": [
    "data_thyroid.nunique()"
   ]
  },
  {
   "cell_type": "code",
   "execution_count": 195,
   "metadata": {},
   "outputs": [
    {
     "data": {
      "text/plain": [
       "182"
      ]
     },
     "execution_count": 195,
     "metadata": {},
     "output_type": "execute_result"
    }
   ],
   "source": [
    "data_thyroid.duplicated().sum()"
   ]
  },
  {
   "cell_type": "code",
   "execution_count": 233,
   "metadata": {},
   "outputs": [
    {
     "name": "stdout",
     "output_type": "stream",
     "text": [
      "0\n"
     ]
    },
    {
     "data": {
      "text/plain": [
       "(3587, 11)"
      ]
     },
     "execution_count": 233,
     "metadata": {},
     "output_type": "execute_result"
    }
   ],
   "source": [
    "# Assuming 'data_thyroid' is your DataFrame\n",
    "data_thyroid = data_thyroid.drop_duplicates()\n",
    "\n",
    "# Now, if you check for duplicates again, the result should be 0\n",
    "print(data_thyroid.duplicated().sum())\n",
    "\n",
    "data_thyroid.shape"
   ]
  },
  {
   "cell_type": "code",
   "execution_count": null,
   "metadata": {},
   "outputs": [],
   "source": []
  },
  {
   "cell_type": "code",
   "execution_count": 197,
   "metadata": {},
   "outputs": [
    {
     "name": "stdout",
     "output_type": "stream",
     "text": [
      "Number of missing values in 'sex' column after handling: 0\n"
     ]
    }
   ],
   "source": [
    "# ## handing missing value\n",
    "\n",
    "# ## sex col - m and f\n",
    "\n",
    "data_thyroid['sex'] = data_thyroid['sex'].str.strip() ##he code data_thyroid['sex'] = data_thyroid['sex'].str.strip() is used to remove leading and trailing whitespaces from the values in the 'sex' column of the DataFrame data_thyroid\n",
    "## may be becuase of this we was unable to handle missing value\n",
    "most_frequent_sex = data_thyroid['sex'].mode()[0]\n",
    "data_thyroid['sex'].fillna(most_frequent_sex, inplace=True)\n",
    "\n",
    "print(\"Number of missing values in 'sex' column after handling:\", data_thyroid['sex'].isnull().sum())"
   ]
  },
  {
   "cell_type": "code",
   "execution_count": 198,
   "metadata": {},
   "outputs": [],
   "source": [
    "# data_thyroid.isnull().sum()"
   ]
  },
  {
   "cell_type": "code",
   "execution_count": 199,
   "metadata": {},
   "outputs": [],
   "source": [
    "## missing value handling of numeric cols\n",
    "miss_cols = ['FTI', 'TSH', 'T3', 'TT4']\n",
    "\n",
    "for column in miss_cols:\n",
    "    # Calculate the mean of the column\n",
    "    column_mean = data_thyroid[column].mean()\n",
    "    \n",
    "    # Fill missing values in the column with the calculated mean\n",
    "    data_thyroid[column] = data_thyroid[column].fillna(column_mean)\n",
    "    ##data_thyroid[column]= used to assign new values to the specified column ['FTI', 'TSH', 'T3', 'TT4']"
   ]
  },
  {
   "cell_type": "code",
   "execution_count": 200,
   "metadata": {},
   "outputs": [
    {
     "data": {
      "text/plain": [
       "sex                  0\n",
       "on thyroxine         0\n",
       "pregnant             0\n",
       "query hypothyroid    0\n",
       "psych                0\n",
       "TSH measured         0\n",
       "TSH                  0\n",
       "T3                   0\n",
       "TT4                  0\n",
       "FTI                  0\n",
       "outcome              0\n",
       "dtype: int64"
      ]
     },
     "execution_count": 200,
     "metadata": {},
     "output_type": "execute_result"
    }
   ],
   "source": [
    "data_thyroid.isnull().sum()"
   ]
  },
  {
   "cell_type": "code",
   "execution_count": 201,
   "metadata": {},
   "outputs": [],
   "source": [
    "# cat_feature=[column for column in data_thyroid.columns if data_thyroid[column].dtype==\"O\"]\n",
    "# cat_feature"
   ]
  },
  {
   "cell_type": "code",
   "execution_count": 202,
   "metadata": {},
   "outputs": [],
   "source": [
    "# num_feature=[column for column in data_thyroid.columns if data_thyroid[column].dtype!=\"O\"]\n",
    "# num_feature"
   ]
  },
  {
   "cell_type": "code",
   "execution_count": 203,
   "metadata": {},
   "outputs": [
    {
     "data": {
      "image/png": "[encoded data removed]",
      "text/plain": [
       "<Figure size 640x480 with 1 Axes>"
      ]
     },
     "metadata": {},
     "output_type": "display_data"
    },
    {
     "name": "stdout",
     "output_type": "stream",
     "text": [
      "outcome\n",
      "P    3299\n",
      "N     291\n",
      "Name: count, dtype: int64\n"
     ]
    }
   ],
   "source": [
    "##EDA\n",
    "\n",
    "import seaborn as sns\n",
    "import matplotlib.pyplot as plt\n",
    "\n",
    "\n",
    "sns.countplot(x='outcome', data=data_thyroid, palette=['steelblue', 'darkorange'])\n",
    "plt.title(\"Countplot for Target variable\")\n",
    "plt.show()\n",
    "counts = data_thyroid['outcome'].value_counts()\n",
    "print(counts)"
   ]
  },
  {
   "cell_type": "markdown",
   "metadata": {},
   "source": [
    "## conclusion-data is imbAalance"
   ]
  },
  {
   "cell_type": "code",
   "execution_count": 204,
   "metadata": {},
   "outputs": [
    {
     "data": {
      "image/png": "[encoded data removed]",
      "text/plain": [
       "<Figure size 640x480 with 1 Axes>"
      ]
     },
     "metadata": {},
     "output_type": "display_data"
    }
   ],
   "source": [
    "sns.countplot(x='sex', data=data_thyroid, palette=['lightcoral','skyblue',])\n",
    "plt.title(\"Countplot for sex\")\n",
    "plt.show()"
   ]
  },
  {
   "cell_type": "code",
   "execution_count": 205,
   "metadata": {},
   "outputs": [
    {
     "data": {
      "image/png": "[encoded data removed]",
      "text/plain": [
       "<Figure size 640x480 with 1 Axes>"
      ]
     },
     "metadata": {},
     "output_type": "display_data"
    },
    {
     "name": "stdout",
     "output_type": "stream",
     "text": [
      "pregnant\n",
      "f    3537\n",
      "t      53\n",
      "Name: count, dtype: int64\n"
     ]
    }
   ],
   "source": [
    "sns.countplot(x='pregnant', data=data_thyroid, palette=['steelblue', 'darkorange'])\n",
    "plt.title(\"Countplot for Target variable\")\n",
    "plt.show()\n",
    "counts = data_thyroid['pregnant'].value_counts()\n",
    "print(counts)"
   ]
  },
  {
   "cell_type": "code",
   "execution_count": 206,
   "metadata": {},
   "outputs": [
    {
     "data": {
      "image/png": "[encoded data removed]",
      "text/plain": [
       "<Figure size 640x480 with 1 Axes>"
      ]
     },
     "metadata": {},
     "output_type": "display_data"
    },
    {
     "name": "stdout",
     "output_type": "stream",
     "text": [
      "query hypothyroid\n",
      "f    3358\n",
      "t     232\n",
      "Name: count, dtype: int64\n"
     ]
    }
   ],
   "source": [
    "sns.countplot(x='query hypothyroid', data=data_thyroid, palette=['steelblue', 'darkorange'])\n",
    "plt.title(\"Countplot for query hypothyroid\")\n",
    "plt.show()\n",
    "counts = data_thyroid['query hypothyroid'].value_counts()\n",
    "print(counts)"
   ]
  },
  {
   "cell_type": "code",
   "execution_count": 207,
   "metadata": {},
   "outputs": [
    {
     "data": {
      "image/png": "[encoded data removed]",
      "text/plain": [
       "<Figure size 640x480 with 1 Axes>"
      ]
     },
     "metadata": {},
     "output_type": "display_data"
    },
    {
     "name": "stdout",
     "output_type": "stream",
     "text": [
      "query hypothyroid\n",
      "f    3358\n",
      "t     232\n",
      "Name: count, dtype: int64\n"
     ]
    }
   ],
   "source": [
    "sns.countplot(x='psych', data=data_thyroid, palette=['steelblue', 'darkorange'])\n",
    "plt.title(\"Countplot for psych variable\")\n",
    "plt.show()\n",
    "counts = data_thyroid['query hypothyroid'].value_counts()\n",
    "print(counts)"
   ]
  },
  {
   "cell_type": "code",
   "execution_count": 208,
   "metadata": {},
   "outputs": [
    {
     "data": {
      "image/png": "[encoded data removed]",
      "text/plain": [
       "<Figure size 640x480 with 1 Axes>"
      ]
     },
     "metadata": {},
     "output_type": "display_data"
    },
    {
     "name": "stdout",
     "output_type": "stream",
     "text": [
      "query hypothyroid\n",
      "f    3358\n",
      "t     232\n",
      "Name: count, dtype: int64\n"
     ]
    }
   ],
   "source": [
    "sns.countplot(x='TSH measured', data=data_thyroid, palette=['steelblue', 'darkorange'])\n",
    "plt.title(\"Countplot for TSH measured\")\n",
    "plt.show()\n",
    "counts = data_thyroid['query hypothyroid'].value_counts()\n",
    "print(counts)"
   ]
  },
  {
   "cell_type": "code",
   "execution_count": 209,
   "metadata": {},
   "outputs": [],
   "source": [
    "## conclusion from categorical data - data is imbalance we need to balance our dataset"
   ]
  },
  {
   "cell_type": "code",
   "execution_count": 210,
   "metadata": {},
   "outputs": [
    {
     "data": {
      "image/png": "[encoded data removed]",
      "text/plain": [
       "<Figure size 640x480 with 1 Axes>"
      ]
     },
     "metadata": {},
     "output_type": "display_data"
    },
    {
     "name": "stdout",
     "output_type": "stream",
     "text": [
      "The mode value for 'T3' is: 2.013516042780749\n",
      "The frequency of the mode value is: 598\n"
     ]
    }
   ],
   "source": [
    "import matplotlib.pyplot as plt\n",
    "import seaborn as sns\n",
    "\n",
    "\n",
    "sns.histplot(data_thyroid['T3'], color='steelblue', kde=False)\n",
    "plt.title(\"Histogram for 'T3' column\")\n",
    "plt.xlabel(\"T3 Values\")\n",
    "plt.ylabel(\"Frequency\")\n",
    "plt.show()\n",
    "\n",
    "t3_mode = data_thyroid['T3'].mode()\n",
    "\n",
    "# Mode value\n",
    "mode_value_t3 = t3_mode.iloc[0]\n",
    "\n",
    "# Frequency of the mode value\n",
    "mode_frequency_t3 = data_thyroid['T3'].value_counts().loc[mode_value_t3]\n",
    "\n",
    "# Print the results\n",
    "print(f\"The mode value for 'T3' is: {mode_value_t3}\")\n",
    "print(f\"The frequency of the mode value is: {mode_frequency_t3}\")\n",
    "\n"
   ]
  },
  {
   "cell_type": "code",
   "execution_count": 211,
   "metadata": {},
   "outputs": [
    {
     "data": {
      "image/png": "[encoded data removed]",
      "text/plain": [
       "<Figure size 640x480 with 1 Axes>"
      ]
     },
     "metadata": {},
     "output_type": "display_data"
    },
    {
     "name": "stdout",
     "output_type": "stream",
     "text": [
      "The mode value for 'TT4' is: 101.0\n",
      "The frequency of the mode value is: 71\n"
     ]
    }
   ],
   "source": [
    "import matplotlib.pyplot as plt\n",
    "import seaborn as sns\n",
    "\n",
    "\n",
    "sns.histplot(data_thyroid['TT4'], color='darkorange', kde=False)\n",
    "plt.title(\"Histogram for 'TT4' column\")\n",
    "plt.xlabel(\"TT4 Values\")\n",
    "plt.ylabel(\"Frequency\")\n",
    "plt.show()\n",
    "\n",
    "\n",
    "\n",
    "TT4_mode = data_thyroid['TT4'].mode()\n",
    "\n",
    "# Mode value\n",
    "mode_value_TT4 = TT4_mode.iloc[0]\n",
    "\n",
    "# Frequency of the mode value\n",
    "mode_frequency_TT4 = data_thyroid['TT4'].value_counts().loc[mode_value_TT4]\n",
    "\n",
    "# Print the results\n",
    "print(f\"The mode value for 'TT4' is: {mode_value_TT4}\")\n",
    "print(f\"The frequency of the mode value is: {mode_frequency_TT4}\")\n",
    "\n",
    "\n",
    "## conclusion -->the mode value of 101.0 is the most common value in the 'TT4' column, and it occurs 71 times in the dataset.\n"
   ]
  },
  {
   "cell_type": "code",
   "execution_count": 212,
   "metadata": {},
   "outputs": [
    {
     "data": {
      "image/png": "[encoded data removed]",
      "text/plain": [
       "<Figure size 640x480 with 1 Axes>"
      ]
     },
     "metadata": {},
     "output_type": "display_data"
    },
    {
     "name": "stdout",
     "output_type": "stream",
     "text": [
      "The mode value for 'TSH' is: 5.088493090267568\n",
      "The frequency of the mode value is: 189\n"
     ]
    }
   ],
   "source": [
    "import matplotlib.pyplot as plt\n",
    "import seaborn as sns\n",
    "\n",
    "# Assuming 'T3' is a numeric column in your dataframe (data_thyroid)\n",
    "sns.histplot(data_thyroid['TSH'], color='steelblue', kde=False)\n",
    "plt.title(\"Histogram for 'TSH' column\")\n",
    "plt.xlabel(\"TSH Values\")\n",
    "plt.ylabel(\"Frequency\")\n",
    "plt.show()\n",
    "\n",
    "\n",
    "# Assuming 'T3' is a numeric column in your dataframe (data_thyroid)\n",
    "TSH_mode = data_thyroid['TSH'].mode()\n",
    "\n",
    "# Mode value\n",
    "mode_value_TSH = TSH_mode.iloc[0]\n",
    "\n",
    "# Frequency of the mode value\n",
    "mode_frequency_TSH = data_thyroid['TSH'].value_counts().loc[mode_value_TSH]\n",
    "\n",
    "# Print the results\n",
    "print(f\"The mode value for 'TSH' is: {mode_value_TSH}\")\n",
    "print(f\"The frequency of the mode value is: {mode_frequency_TSH}\")"
   ]
  },
  {
   "cell_type": "code",
   "execution_count": 213,
   "metadata": {},
   "outputs": [
    {
     "data": {
      "image/png": "[encoded data removed]",
      "text/plain": [
       "<Figure size 640x480 with 1 Axes>"
      ]
     },
     "metadata": {},
     "output_type": "display_data"
    },
    {
     "name": "stdout",
     "output_type": "stream",
     "text": [
      "The mode value for 'FTI' is: 110.49547872340426\n",
      "The frequency of the mode value is: 206\n"
     ]
    }
   ],
   "source": [
    "import matplotlib.pyplot as plt\n",
    "import seaborn as sns\n",
    "\n",
    "# Assuming 'FTI' is a numeric column in your dataframe (data_thyroid)\n",
    "sns.histplot(data_thyroid['FTI'], color='steelblue', kde=False)\n",
    "plt.title(\"Histogram for 'FTI' column\")\n",
    "plt.xlabel(\"FTI Values\")\n",
    "plt.ylabel(\"Frequency\")\n",
    "plt.show()\n",
    "\n",
    "# Assuming 'FTI' is a numeric column in your dataframe (data_thyroid)\n",
    "FTI_mode = data_thyroid['FTI'].mode()\n",
    "\n",
    "# Mode value\n",
    "mode_value_FTI = FTI_mode.iloc[0]\n",
    "\n",
    "# Frequency of the mode value\n",
    "mode_frequency_FTI = data_thyroid['FTI'].value_counts().loc[mode_value_FTI]\n",
    "\n",
    "# Print the results\n",
    "print(f\"The mode value for 'FTI' is: {mode_value_FTI}\")\n",
    "print(f\"The frequency of the mode value is: {mode_frequency_FTI}\")\n"
   ]
  },
  {
   "cell_type": "code",
   "execution_count": 214,
   "metadata": {},
   "outputs": [
    {
     "name": "stdout",
     "output_type": "stream",
     "text": [
      "Correlation Table for Numeric Columns:\n",
      "          TSH        T3       TT4       FTI\n",
      "TSH  1.000000 -0.147425 -0.261487 -0.293200\n",
      "T3  -0.147425  1.000000  0.509429  0.309067\n",
      "TT4 -0.261487  0.509429  1.000000  0.778954\n",
      "FTI -0.293200  0.309067  0.778954  1.000000\n"
     ]
    }
   ],
   "source": [
    "## correlatio table\n",
    "import pandas as pd\n",
    "\n",
    "numeric_columns = ['TSH', 'T3', 'TT4', 'FTI']\n",
    "\n",
    "# Filter DataFrame to include only numeric columns\n",
    "numeric_data = data_thyroid[numeric_columns].select_dtypes(include='number')\n",
    "\n",
    "# Correlation table\n",
    "correlation_table = numeric_data.corr()\n",
    "\n",
    "# Display correlation table\n",
    "print(\"Correlation Table for Numeric Columns:\")\n",
    "print(correlation_table)\n"
   ]
  },
  {
   "cell_type": "code",
   "execution_count": 215,
   "metadata": {},
   "outputs": [
    {
     "data": {
      "image/png": "[encoded data removed]",
      "text/plain": [
       "<Figure size 800x600 with 2 Axes>"
      ]
     },
     "metadata": {},
     "output_type": "display_data"
    }
   ],
   "source": [
    "## heatmap\n",
    "import pandas as pd\n",
    "import matplotlib.pyplot as plt\n",
    "import seaborn as sns\n",
    "\n",
    "\n",
    "# Select numeric columns for correlation matrix\n",
    "numeric_columns = ['TSH', 'T3', 'TT4', 'FTI']\n",
    "\n",
    "# Filter DataFrame to include only numeric columns\n",
    "numeric_data = data_thyroid[numeric_columns].select_dtypes(include='number')\n",
    "\n",
    "# Correlation matrix and heatmap\n",
    "correlation_matrix = numeric_data.corr()\n",
    "\n",
    "plt.figure(figsize=(8, 6))\n",
    "sns.heatmap(correlation_matrix, annot=True, cmap='coolwarm', fmt=\".2f\")\n",
    "plt.title('Correlation Matrix for Numeric Columns')\n",
    "plt.show()\n"
   ]
  },
  {
   "cell_type": "markdown",
   "metadata": {},
   "source": [
    "## tranform non-numeric col to numeric using any one of the encoder and  process is known as encoding "
   ]
  },
  {
   "cell_type": "code",
   "execution_count": 216,
   "metadata": {},
   "outputs": [
    {
     "name": "stdout",
     "output_type": "stream",
     "text": [
      "<class 'pandas.core.frame.DataFrame'>\n",
      "Index: 3590 entries, 0 to 3771\n",
      "Data columns (total 11 columns):\n",
      " #   Column             Non-Null Count  Dtype  \n",
      "---  ------             --------------  -----  \n",
      " 0   sex                3590 non-null   object \n",
      " 1   on thyroxine       3590 non-null   object \n",
      " 2   pregnant           3590 non-null   object \n",
      " 3   query hypothyroid  3590 non-null   object \n",
      " 4   psych              3590 non-null   object \n",
      " 5   TSH measured       3590 non-null   object \n",
      " 6   TSH                3590 non-null   float64\n",
      " 7   T3                 3590 non-null   float64\n",
      " 8   TT4                3590 non-null   float64\n",
      " 9   FTI                3590 non-null   float64\n",
      " 10  outcome            3590 non-null   object \n",
      "dtypes: float64(4), object(7)\n",
      "memory usage: 336.6+ KB\n"
     ]
    }
   ],
   "source": [
    "data_thyroid.info()"
   ]
  },
  {
   "cell_type": "code",
   "execution_count": 217,
   "metadata": {},
   "outputs": [],
   "source": [
    "## separating X and y col\n",
    "\n",
    "\n",
    "X = data_thyroid.drop('outcome', axis=1)  # Features excluding the target feature\n",
    "y = data_thyroid['outcome']  # Target feature\n",
    "\n",
    "\n"
   ]
  },
  {
   "cell_type": "code",
   "execution_count": 232,
   "metadata": {},
   "outputs": [
    {
     "data": {
      "text/plain": [
       "(3590, 10)"
      ]
     },
     "execution_count": 232,
     "metadata": {},
     "output_type": "execute_result"
    }
   ],
   "source": [
    "X.shape"
   ]
  },
  {
   "cell_type": "code",
   "execution_count": 219,
   "metadata": {},
   "outputs": [
    {
     "data": {
      "text/plain": [
       "0       P\n",
       "1       P\n",
       "2       P\n",
       "3       P\n",
       "4       P\n",
       "       ..\n",
       "3766    N\n",
       "3768    P\n",
       "3769    P\n",
       "3770    P\n",
       "3771    P\n",
       "Name: outcome, Length: 3590, dtype: object"
      ]
     },
     "execution_count": 219,
     "metadata": {},
     "output_type": "execute_result"
    }
   ],
   "source": [
    "y"
   ]
  },
  {
   "cell_type": "code",
   "execution_count": 220,
   "metadata": {},
   "outputs": [],
   "source": [
    "import pandas as pd\n",
    "import numpy as np\n",
    "from sklearn.compose import ColumnTransformer\n",
    "from sklearn.impute import SimpleImputer\n",
    "from sklearn.pipeline import Pipeline\n",
    "from sklearn.preprocessing import OneHotEncoder, StandardScaler, LabelEncoder\n",
    "from sklearn.preprocessing import FunctionTransformer\n",
    "\n",
    "\n",
    "\n",
    "numerical_columns = ['TSH', 'T3', 'TT4', 'FTI']\n",
    "categorical_columns = ['sex', 'on thyroxine', 'query hypothyroid', 'psych', 'TSH measured', 'pregnant']\n",
    "\n",
    "# Define numerical pipeline\n",
    "num_pipeline = Pipeline(\n",
    "    steps=[\n",
    "        (\"imputer\", SimpleImputer(strategy=\"median\")),\n",
    "        (\"scaler\", StandardScaler())\n",
    "    ]\n",
    ")\n",
    "\n",
    "# Define categorical pipeline\n",
    "cat_pipeline = Pipeline(\n",
    "    steps=[\n",
    "        ('imputer', SimpleImputer(strategy='most_frequent')),\n",
    "        ('onehot', OneHotEncoder(handle_unknown='ignore'))\n",
    "    ]\n",
    ")\n",
    "\n",
    "# Combine the numerical and categorical transformers using ColumnTransformer\n",
    "preprocessor = ColumnTransformer(\n",
    "    transformers=[\n",
    "        ('num', num_pipeline, numerical_columns),\n",
    "        ('cat', cat_pipeline, categorical_columns)\n",
    "    ]\n",
    ")\n",
    "\n"
   ]
  },
  {
   "cell_type": "code",
   "execution_count": 221,
   "metadata": {},
   "outputs": [],
   "source": [
    "# Split the data into training and testing sets\n",
    "from sklearn.model_selection import train_test_split\n",
    "\n",
    "\n",
    "X_train, X_test, y_train, y_test = train_test_split(X, y, test_size=0.25, random_state=42)\n"
   ]
  },
  {
   "cell_type": "code",
   "execution_count": 222,
   "metadata": {},
   "outputs": [
    {
     "data": {
      "text/plain": [
       "(2692, 10)"
      ]
     },
     "execution_count": 222,
     "metadata": {},
     "output_type": "execute_result"
    }
   ],
   "source": [
    "X_train.shape"
   ]
  },
  {
   "cell_type": "code",
   "execution_count": 223,
   "metadata": {},
   "outputs": [
    {
     "data": {
      "text/plain": [
       "(898, 10)"
      ]
     },
     "execution_count": 223,
     "metadata": {},
     "output_type": "execute_result"
    }
   ],
   "source": [
    "X_test.shape"
   ]
  },
  {
   "cell_type": "code",
   "execution_count": 224,
   "metadata": {},
   "outputs": [
    {
     "data": {
      "text/plain": [
       "(2692,)"
      ]
     },
     "execution_count": 224,
     "metadata": {},
     "output_type": "execute_result"
    }
   ],
   "source": [
    "y_train.shape"
   ]
  },
  {
   "cell_type": "code",
   "execution_count": 225,
   "metadata": {},
   "outputs": [
    {
     "data": {
      "text/plain": [
       "(898,)"
      ]
     },
     "execution_count": 225,
     "metadata": {},
     "output_type": "execute_result"
    }
   ],
   "source": [
    "y_test.shape"
   ]
  },
  {
   "cell_type": "code",
   "execution_count": 244,
   "metadata": {},
   "outputs": [
    {
     "data": {
      "text/plain": [
       "array([[-0.19704555, -1.45837658,  0.04280235, ...,  1.        ,\n",
       "         1.        ,  0.        ],\n",
       "       [-0.18909485,  0.0083556 ,  0.40837637, ...,  1.        ,\n",
       "         1.        ,  0.        ],\n",
       "       [ 0.10583801, -0.66805181, -0.96955646, ...,  1.        ,\n",
       "         1.        ,  0.        ],\n",
       "       ...,\n",
       "       [-0.20083159, -0.27288943, -0.51961921, ...,  1.        ,\n",
       "         1.        ,  0.        ],\n",
       "       [-0.11753861,  0.64915614,  0.15528667, ...,  1.        ,\n",
       "         1.        ,  0.        ],\n",
       "       [-0.12889675, -0.27288943, -0.57586136, ...,  1.        ,\n",
       "         1.        ,  0.        ]])"
      ]
     },
     "execution_count": 244,
     "metadata": {},
     "output_type": "execute_result"
    }
   ],
   "source": [
    "input_X_train=preprocessor.fit_transform(X_train)\n",
    "# Extract column names after one-hot encoding\n",
    "cat_feature_names = preprocessor.named_transformers_['cat']['onehot'].get_feature_names_out(categorical_columns)\n",
    "\n",
    "# Combine numerical and categorical feature names\n",
    "feature_names = numerical_columns + list(cat_feature_names)\n",
    "\n",
    "\n",
    "input_X_train_df=pd.DataFrame(input_X_train, columns=feature_names)\n",
    "input_X_train_df\n",
    "\n",
    "\n",
    "\n",
    "# coverting back to df to numpy\n",
    "input_X_train_array = input_X_train_df.values\n",
    "input_X_train_array"
   ]
  },
  {
   "cell_type": "code",
   "execution_count": 258,
   "metadata": {},
   "outputs": [
    {
     "data": {
      "text/html": [
       "<div>\n",
       "<style scoped>\n",
       "    .dataframe tbody tr th:only-of-type {\n",
       "        vertical-align: middle;\n",
       "    }\n",
       "\n",
       "    .dataframe tbody tr th {\n",
       "        vertical-align: top;\n",
       "    }\n",
       "\n",
       "    .dataframe thead th {\n",
       "        text-align: right;\n",
       "    }\n",
       "</style>\n",
       "<table border=\"1\" class=\"dataframe\">\n",
       "  <thead>\n",
       "    <tr style=\"text-align: right;\">\n",
       "      <th></th>\n",
       "      <th>TSH</th>\n",
       "      <th>T3</th>\n",
       "      <th>TT4</th>\n",
       "      <th>FTI</th>\n",
       "      <th>sex_F</th>\n",
       "      <th>sex_M</th>\n",
       "      <th>on thyroxine_f</th>\n",
       "      <th>on thyroxine_t</th>\n",
       "      <th>query hypothyroid_f</th>\n",
       "      <th>query hypothyroid_t</th>\n",
       "      <th>psych_f</th>\n",
       "      <th>psych_t</th>\n",
       "      <th>TSH measured_f</th>\n",
       "      <th>TSH measured_t</th>\n",
       "      <th>pregnant_f</th>\n",
       "      <th>pregnant_t</th>\n",
       "    </tr>\n",
       "  </thead>\n",
       "  <tbody>\n",
       "    <tr>\n",
       "      <th>0</th>\n",
       "      <td>-0.197046</td>\n",
       "      <td>-1.458377</td>\n",
       "      <td>0.042802</td>\n",
       "      <td>0.730619</td>\n",
       "      <td>1.0</td>\n",
       "      <td>0.0</td>\n",
       "      <td>1.0</td>\n",
       "      <td>0.0</td>\n",
       "      <td>1.0</td>\n",
       "      <td>0.0</td>\n",
       "      <td>1.0</td>\n",
       "      <td>0.0</td>\n",
       "      <td>0.0</td>\n",
       "      <td>1.0</td>\n",
       "      <td>1.0</td>\n",
       "      <td>0.0</td>\n",
       "    </tr>\n",
       "    <tr>\n",
       "      <th>1</th>\n",
       "      <td>-0.189095</td>\n",
       "      <td>0.008356</td>\n",
       "      <td>0.408376</td>\n",
       "      <td>0.450543</td>\n",
       "      <td>1.0</td>\n",
       "      <td>0.0</td>\n",
       "      <td>1.0</td>\n",
       "      <td>0.0</td>\n",
       "      <td>1.0</td>\n",
       "      <td>0.0</td>\n",
       "      <td>1.0</td>\n",
       "      <td>0.0</td>\n",
       "      <td>0.0</td>\n",
       "      <td>1.0</td>\n",
       "      <td>1.0</td>\n",
       "      <td>0.0</td>\n",
       "    </tr>\n",
       "    <tr>\n",
       "      <th>2</th>\n",
       "      <td>0.105838</td>\n",
       "      <td>-0.668052</td>\n",
       "      <td>-0.969556</td>\n",
       "      <td>-0.856477</td>\n",
       "      <td>1.0</td>\n",
       "      <td>0.0</td>\n",
       "      <td>1.0</td>\n",
       "      <td>0.0</td>\n",
       "      <td>1.0</td>\n",
       "      <td>0.0</td>\n",
       "      <td>1.0</td>\n",
       "      <td>0.0</td>\n",
       "      <td>0.0</td>\n",
       "      <td>1.0</td>\n",
       "      <td>1.0</td>\n",
       "      <td>0.0</td>\n",
       "    </tr>\n",
       "    <tr>\n",
       "      <th>3</th>\n",
       "      <td>0.022545</td>\n",
       "      <td>-0.009448</td>\n",
       "      <td>-0.154045</td>\n",
       "      <td>-0.000831</td>\n",
       "      <td>1.0</td>\n",
       "      <td>0.0</td>\n",
       "      <td>1.0</td>\n",
       "      <td>0.0</td>\n",
       "      <td>1.0</td>\n",
       "      <td>0.0</td>\n",
       "      <td>1.0</td>\n",
       "      <td>0.0</td>\n",
       "      <td>0.0</td>\n",
       "      <td>1.0</td>\n",
       "      <td>1.0</td>\n",
       "      <td>0.0</td>\n",
       "    </tr>\n",
       "    <tr>\n",
       "      <th>4</th>\n",
       "      <td>-0.173572</td>\n",
       "      <td>0.780877</td>\n",
       "      <td>2.011278</td>\n",
       "      <td>0.481663</td>\n",
       "      <td>1.0</td>\n",
       "      <td>0.0</td>\n",
       "      <td>1.0</td>\n",
       "      <td>0.0</td>\n",
       "      <td>1.0</td>\n",
       "      <td>0.0</td>\n",
       "      <td>1.0</td>\n",
       "      <td>0.0</td>\n",
       "      <td>0.0</td>\n",
       "      <td>1.0</td>\n",
       "      <td>1.0</td>\n",
       "      <td>0.0</td>\n",
       "    </tr>\n",
       "    <tr>\n",
       "      <th>...</th>\n",
       "      <td>...</td>\n",
       "      <td>...</td>\n",
       "      <td>...</td>\n",
       "      <td>...</td>\n",
       "      <td>...</td>\n",
       "      <td>...</td>\n",
       "      <td>...</td>\n",
       "      <td>...</td>\n",
       "      <td>...</td>\n",
       "      <td>...</td>\n",
       "      <td>...</td>\n",
       "      <td>...</td>\n",
       "      <td>...</td>\n",
       "      <td>...</td>\n",
       "      <td>...</td>\n",
       "      <td>...</td>\n",
       "    </tr>\n",
       "    <tr>\n",
       "      <th>2687</th>\n",
       "      <td>-0.185687</td>\n",
       "      <td>0.253994</td>\n",
       "      <td>-0.041561</td>\n",
       "      <td>0.077109</td>\n",
       "      <td>0.0</td>\n",
       "      <td>1.0</td>\n",
       "      <td>1.0</td>\n",
       "      <td>0.0</td>\n",
       "      <td>1.0</td>\n",
       "      <td>0.0</td>\n",
       "      <td>1.0</td>\n",
       "      <td>0.0</td>\n",
       "      <td>0.0</td>\n",
       "      <td>1.0</td>\n",
       "      <td>1.0</td>\n",
       "      <td>0.0</td>\n",
       "    </tr>\n",
       "    <tr>\n",
       "      <th>2688</th>\n",
       "      <td>-0.170543</td>\n",
       "      <td>0.008356</td>\n",
       "      <td>-1.082041</td>\n",
       "      <td>-0.731999</td>\n",
       "      <td>1.0</td>\n",
       "      <td>0.0</td>\n",
       "      <td>1.0</td>\n",
       "      <td>0.0</td>\n",
       "      <td>1.0</td>\n",
       "      <td>0.0</td>\n",
       "      <td>1.0</td>\n",
       "      <td>0.0</td>\n",
       "      <td>0.0</td>\n",
       "      <td>1.0</td>\n",
       "      <td>1.0</td>\n",
       "      <td>0.0</td>\n",
       "    </tr>\n",
       "    <tr>\n",
       "      <th>2689</th>\n",
       "      <td>-0.200832</td>\n",
       "      <td>-0.272889</td>\n",
       "      <td>-0.519619</td>\n",
       "      <td>0.481663</td>\n",
       "      <td>1.0</td>\n",
       "      <td>0.0</td>\n",
       "      <td>1.0</td>\n",
       "      <td>0.0</td>\n",
       "      <td>1.0</td>\n",
       "      <td>0.0</td>\n",
       "      <td>1.0</td>\n",
       "      <td>0.0</td>\n",
       "      <td>0.0</td>\n",
       "      <td>1.0</td>\n",
       "      <td>1.0</td>\n",
       "      <td>0.0</td>\n",
       "    </tr>\n",
       "    <tr>\n",
       "      <th>2690</th>\n",
       "      <td>-0.117539</td>\n",
       "      <td>0.649156</td>\n",
       "      <td>0.155287</td>\n",
       "      <td>-0.140728</td>\n",
       "      <td>0.0</td>\n",
       "      <td>1.0</td>\n",
       "      <td>1.0</td>\n",
       "      <td>0.0</td>\n",
       "      <td>1.0</td>\n",
       "      <td>0.0</td>\n",
       "      <td>0.0</td>\n",
       "      <td>1.0</td>\n",
       "      <td>0.0</td>\n",
       "      <td>1.0</td>\n",
       "      <td>1.0</td>\n",
       "      <td>0.0</td>\n",
       "    </tr>\n",
       "    <tr>\n",
       "      <th>2691</th>\n",
       "      <td>-0.128897</td>\n",
       "      <td>-0.272889</td>\n",
       "      <td>-0.575861</td>\n",
       "      <td>-0.265206</td>\n",
       "      <td>1.0</td>\n",
       "      <td>0.0</td>\n",
       "      <td>1.0</td>\n",
       "      <td>0.0</td>\n",
       "      <td>1.0</td>\n",
       "      <td>0.0</td>\n",
       "      <td>0.0</td>\n",
       "      <td>1.0</td>\n",
       "      <td>0.0</td>\n",
       "      <td>1.0</td>\n",
       "      <td>1.0</td>\n",
       "      <td>0.0</td>\n",
       "    </tr>\n",
       "  </tbody>\n",
       "</table>\n",
       "<p>2692 rows × 16 columns</p>\n",
       "</div>"
      ],
      "text/plain": [
       "           TSH        T3       TT4       FTI  sex_F  sex_M  on thyroxine_f  \\\n",
       "0    -0.197046 -1.458377  0.042802  0.730619    1.0    0.0             1.0   \n",
       "1    -0.189095  0.008356  0.408376  0.450543    1.0    0.0             1.0   \n",
       "2     0.105838 -0.668052 -0.969556 -0.856477    1.0    0.0             1.0   \n",
       "3     0.022545 -0.009448 -0.154045 -0.000831    1.0    0.0             1.0   \n",
       "4    -0.173572  0.780877  2.011278  0.481663    1.0    0.0             1.0   \n",
       "...        ...       ...       ...       ...    ...    ...             ...   \n",
       "2687 -0.185687  0.253994 -0.041561  0.077109    0.0    1.0             1.0   \n",
       "2688 -0.170543  0.008356 -1.082041 -0.731999    1.0    0.0             1.0   \n",
       "2689 -0.200832 -0.272889 -0.519619  0.481663    1.0    0.0             1.0   \n",
       "2690 -0.117539  0.649156  0.155287 -0.140728    0.0    1.0             1.0   \n",
       "2691 -0.128897 -0.272889 -0.575861 -0.265206    1.0    0.0             1.0   \n",
       "\n",
       "      on thyroxine_t  query hypothyroid_f  query hypothyroid_t  psych_f  \\\n",
       "0                0.0                  1.0                  0.0      1.0   \n",
       "1                0.0                  1.0                  0.0      1.0   \n",
       "2                0.0                  1.0                  0.0      1.0   \n",
       "3                0.0                  1.0                  0.0      1.0   \n",
       "4                0.0                  1.0                  0.0      1.0   \n",
       "...              ...                  ...                  ...      ...   \n",
       "2687             0.0                  1.0                  0.0      1.0   \n",
       "2688             0.0                  1.0                  0.0      1.0   \n",
       "2689             0.0                  1.0                  0.0      1.0   \n",
       "2690             0.0                  1.0                  0.0      0.0   \n",
       "2691             0.0                  1.0                  0.0      0.0   \n",
       "\n",
       "      psych_t  TSH measured_f  TSH measured_t  pregnant_f  pregnant_t  \n",
       "0         0.0             0.0             1.0         1.0         0.0  \n",
       "1         0.0             0.0             1.0         1.0         0.0  \n",
       "2         0.0             0.0             1.0         1.0         0.0  \n",
       "3         0.0             0.0             1.0         1.0         0.0  \n",
       "4         0.0             0.0             1.0         1.0         0.0  \n",
       "...       ...             ...             ...         ...         ...  \n",
       "2687      0.0             0.0             1.0         1.0         0.0  \n",
       "2688      0.0             0.0             1.0         1.0         0.0  \n",
       "2689      0.0             0.0             1.0         1.0         0.0  \n",
       "2690      1.0             0.0             1.0         1.0         0.0  \n",
       "2691      1.0             0.0             1.0         1.0         0.0  \n",
       "\n",
       "[2692 rows x 16 columns]"
      ]
     },
     "execution_count": 258,
     "metadata": {},
     "output_type": "execute_result"
    }
   ],
   "source": [
    "input_X_train_df"
   ]
  },
  {
   "cell_type": "code",
   "execution_count": 247,
   "metadata": {},
   "outputs": [
    {
     "data": {
      "text/plain": [
       "(2692, 1)"
      ]
     },
     "execution_count": 247,
     "metadata": {},
     "output_type": "execute_result"
    }
   ],
   "source": [
    "import pandas as pd\n",
    "from sklearn.preprocessing import LabelEncoder\n",
    "\n",
    "# Assuming 'data_thyroid' is your DataFrame containing thyroid data\n",
    "# Replace 'outcome' with the correct name of your target column\n",
    "target_column_name = 'outcome'\n",
    "\n",
    "# Encode the target column\n",
    "label_encoder = LabelEncoder()\n",
    "target_feature_train_df = label_encoder.fit_transform(y_train)  # y col\n",
    "target_feature_train_df = pd.DataFrame(target_feature_train_df)\n",
    "target_feature_train_df\n",
    "\n",
    "# coverting back to df to numpy\n",
    "target_feature_train_array= target_feature_train_df.values\n",
    "target_feature_train_array.shape\n",
    " "
   ]
  },
  {
   "cell_type": "code",
   "execution_count": 259,
   "metadata": {},
   "outputs": [
    {
     "data": {
      "text/html": [
       "<div>\n",
       "<style scoped>\n",
       "    .dataframe tbody tr th:only-of-type {\n",
       "        vertical-align: middle;\n",
       "    }\n",
       "\n",
       "    .dataframe tbody tr th {\n",
       "        vertical-align: top;\n",
       "    }\n",
       "\n",
       "    .dataframe thead th {\n",
       "        text-align: right;\n",
       "    }\n",
       "</style>\n",
       "<table border=\"1\" class=\"dataframe\">\n",
       "  <thead>\n",
       "    <tr style=\"text-align: right;\">\n",
       "      <th></th>\n",
       "      <th>0</th>\n",
       "    </tr>\n",
       "  </thead>\n",
       "  <tbody>\n",
       "    <tr>\n",
       "      <th>0</th>\n",
       "      <td>1</td>\n",
       "    </tr>\n",
       "    <tr>\n",
       "      <th>1</th>\n",
       "      <td>1</td>\n",
       "    </tr>\n",
       "    <tr>\n",
       "      <th>2</th>\n",
       "      <td>1</td>\n",
       "    </tr>\n",
       "    <tr>\n",
       "      <th>3</th>\n",
       "      <td>1</td>\n",
       "    </tr>\n",
       "    <tr>\n",
       "      <th>4</th>\n",
       "      <td>1</td>\n",
       "    </tr>\n",
       "    <tr>\n",
       "      <th>...</th>\n",
       "      <td>...</td>\n",
       "    </tr>\n",
       "    <tr>\n",
       "      <th>2687</th>\n",
       "      <td>1</td>\n",
       "    </tr>\n",
       "    <tr>\n",
       "      <th>2688</th>\n",
       "      <td>1</td>\n",
       "    </tr>\n",
       "    <tr>\n",
       "      <th>2689</th>\n",
       "      <td>1</td>\n",
       "    </tr>\n",
       "    <tr>\n",
       "      <th>2690</th>\n",
       "      <td>1</td>\n",
       "    </tr>\n",
       "    <tr>\n",
       "      <th>2691</th>\n",
       "      <td>1</td>\n",
       "    </tr>\n",
       "  </tbody>\n",
       "</table>\n",
       "<p>2692 rows × 1 columns</p>\n",
       "</div>"
      ],
      "text/plain": [
       "      0\n",
       "0     1\n",
       "1     1\n",
       "2     1\n",
       "3     1\n",
       "4     1\n",
       "...  ..\n",
       "2687  1\n",
       "2688  1\n",
       "2689  1\n",
       "2690  1\n",
       "2691  1\n",
       "\n",
       "[2692 rows x 1 columns]"
      ]
     },
     "execution_count": 259,
     "metadata": {},
     "output_type": "execute_result"
    }
   ],
   "source": [
    "target_feature_train_df"
   ]
  },
  {
   "cell_type": "code",
   "execution_count": 268,
   "metadata": {},
   "outputs": [
    {
     "data": {
      "text/plain": [
       "array([[-0.1932595 , -1.85353896,  0.32401313, ...,  1.        ,\n",
       "         1.        ,  0.        ],\n",
       "       [-0.01196503,  0.0083556 , -1.27888832, ...,  0.        ,\n",
       "         1.        ,  0.        ],\n",
       "       [ 0.08690778, -0.14116863, -0.54774029, ...,  1.        ,\n",
       "         1.        ,  0.        ],\n",
       "       ...,\n",
       "       [-0.18038695,  0.38571455, -0.04156088, ...,  1.        ,\n",
       "         1.        ,  0.        ],\n",
       "       [-0.12132466, -0.7997726 , -0.57586136, ...,  1.        ,\n",
       "         1.        ,  0.        ],\n",
       "       [-0.20272461,  3.02013044,  2.12376213, ...,  1.        ,\n",
       "         1.        ,  0.        ]])"
      ]
     },
     "execution_count": 268,
     "metadata": {},
     "output_type": "execute_result"
    }
   ],
   "source": [
    "\n",
    "\n",
    "## X test \n",
    "# Use the preprocessor to transform the DataFrame\n",
    "input_X_test=preprocessor.transform(X_test)\n",
    "cat_feature_names = preprocessor.named_transformers_['cat']['onehot'].get_feature_names_out(categorical_columns)\n",
    "\n",
    "# Combine numerical and categorical feature names\n",
    "feature_names = numerical_columns + list(cat_feature_names)\n",
    "\n",
    "\n",
    "input_X_test_df=pd.DataFrame(input_X_test, columns=feature_names)\n",
    "input_X_test_df\n",
    "\n",
    "# coverting back to df to numpy\n",
    "input_X_test_array = input_X_test_df.values\n",
    "input_X_test_array\n"
   ]
  },
  {
   "cell_type": "code",
   "execution_count": 269,
   "metadata": {},
   "outputs": [
    {
     "data": {
      "text/plain": [
       "(898, 1)"
      ]
     },
     "execution_count": 269,
     "metadata": {},
     "output_type": "execute_result"
    }
   ],
   "source": [
    "##  y test\n",
    "import pandas as pd\n",
    "from sklearn.preprocessing import LabelEncoder\n",
    "\n",
    "# Assuming 'data_thyroid_test' is your DataFrame for the test set\n",
    "# Replace 'outcome' with the correct name of your target column\n",
    "target_column_name = 'outcome'\n",
    "\n",
    "# Encode the target column for the test set\n",
    "label_encoder = LabelEncoder()\n",
    "target_feature_test_df = label_encoder.fit_transform(y_test)  # y col\n",
    "target_feature_test_df = pd.DataFrame(target_feature_test_df)\n",
    "target_feature_test_df\n",
    "\n",
    "# coverting back to df to numpy\n",
    "target_feature_test_array= target_feature_test_df.values\n",
    "target_feature_test_array.shape\n"
   ]
  },
  {
   "cell_type": "markdown",
   "metadata": {},
   "source": [
    "## handling imbalance data by smote "
   ]
  },
  {
   "cell_type": "code",
   "execution_count": 235,
   "metadata": {},
   "outputs": [],
   "source": []
  },
  {
   "cell_type": "code",
   "execution_count": 248,
   "metadata": {},
   "outputs": [],
   "source": [
    "from imblearn.over_sampling import SMOTE\n",
    "smote = SMOTE(random_state=11)\n",
    "\n",
    "x_smote, y_smote = smote.fit_resample(input_X_train_array,target_feature_train_array)"
   ]
  },
  {
   "cell_type": "code",
   "execution_count": 249,
   "metadata": {},
   "outputs": [
    {
     "data": {
      "text/plain": [
       "array([[-0.19704555, -1.45837658,  0.04280235, ...,  1.        ,\n",
       "         1.        ,  0.        ],\n",
       "       [-0.18909485,  0.0083556 ,  0.40837637, ...,  1.        ,\n",
       "         1.        ,  0.        ],\n",
       "       [ 0.10583801, -0.66805181, -0.96955646, ...,  1.        ,\n",
       "         1.        ,  0.        ],\n",
       "       ...,\n",
       "       [ 0.28423667,  0.00522295,  0.40248479, ...,  1.        ,\n",
       "         1.        ,  0.        ],\n",
       "       [ 0.22132361,  0.02816431, -1.22264616, ...,  1.        ,\n",
       "         1.        ,  0.        ],\n",
       "       [ 1.90323711, -2.28035585, -2.74035717, ...,  1.        ,\n",
       "         1.        ,  0.        ]])"
      ]
     },
     "execution_count": 249,
     "metadata": {},
     "output_type": "execute_result"
    }
   ],
   "source": [
    "x_smote"
   ]
  },
  {
   "cell_type": "code",
   "execution_count": 250,
   "metadata": {},
   "outputs": [
    {
     "data": {
      "text/plain": [
       "array([1, 1, 1, ..., 0, 0, 0])"
      ]
     },
     "execution_count": 250,
     "metadata": {},
     "output_type": "execute_result"
    }
   ],
   "source": [
    "y_smote"
   ]
  },
  {
   "cell_type": "code",
   "execution_count": 252,
   "metadata": {},
   "outputs": [
    {
     "name": "stdout",
     "output_type": "stream",
     "text": [
      "Shape before the Oversampling :  (2692, 10)\n",
      "Shape after the Oversampling :  (4944, 16)\n"
     ]
    }
   ],
   "source": [
    "print(\"Shape before the Oversampling : \",X_train.shape)\n",
    "print(\"Shape after the Oversampling : \",x_smote.shape)"
   ]
  },
  {
   "cell_type": "code",
   "execution_count": 272,
   "metadata": {},
   "outputs": [
    {
     "name": "stdout",
     "output_type": "stream",
     "text": [
      "Model with Maximum Accuracy:\n",
      "Model       Random Forest\n",
      "Accuracy        99.888641\n",
      "Name: 2, dtype: object\n"
     ]
    }
   ],
   "source": [
    "import pandas as pd\n",
    "from sklearn.linear_model import LogisticRegression\n",
    "from sklearn.svm import SVC\n",
    "from sklearn.ensemble import RandomForestClassifier\n",
    "from sklearn.naive_bayes import GaussianNB\n",
    "from xgboost import XGBClassifier\n",
    "from sklearn.tree import DecisionTreeClassifier\n",
    "from sklearn.neighbors import KNeighborsClassifier\n",
    "from sklearn.metrics import accuracy_score, precision_score, recall_score, f1_score, confusion_matrix\n",
    "\n",
    "# Assuming x_smote, y_smote, input_feature_test_arr, target_feature_test_df are defined elsewhere in your code\n",
    "\n",
    "# Define the models dictionary\n",
    "models = {\n",
    "    'Logistic Regression': LogisticRegression(),\n",
    "    'SVM': SVC(),\n",
    "    'Random Forest': RandomForestClassifier(),\n",
    "    'Naive Bayes': GaussianNB(),\n",
    "    'XGBoost': XGBClassifier(),\n",
    "    'Decision Tree': DecisionTreeClassifier(),\n",
    "    'KNN': KNeighborsClassifier()\n",
    "}\n",
    "\n",
    "# Initialize an empty list to store the results\n",
    "results_list = []\n",
    "\n",
    "# Evaluate and append metrics for each model\n",
    "for model_name, model in models.items():\n",
    "    # Train the model\n",
    "    model.fit(x_smote, y_smote)\n",
    "    \n",
    "    # Predictions\n",
    "    y_pred = model.predict(input_X_test_array)\n",
    "\n",
    "    # Metrics\n",
    "    accuracy = accuracy_score(target_feature_test_array, y_pred) * 100\n",
    "    \n",
    "    # Append results to the list\n",
    "    results_list.append({\n",
    "        'Model': model_name,\n",
    "        'Accuracy': accuracy,\n",
    "    })\n",
    "\n",
    "# Convert the list to a DataFrame\n",
    "results_df = pd.DataFrame(results_list)\n",
    "\n",
    "# Sort the accuracy results DataFrame by the \"Accuracy\" column in descending order\n",
    "sorted_accuracy_df = results_df.sort_values(by='Accuracy', ascending=False)\n",
    "\n",
    "# Display the model with the maximum accuracy\n",
    "max_accuracy_model = sorted_accuracy_df.iloc[0]\n",
    "\n",
    "print(f\"Model with Maximum Accuracy:\\n{max_accuracy_model}\")\n"
   ]
  }
 ],
 "metadata": {
  "kernelspec": {
   "display_name": "Python 3",
   "language": "python",
   "name": "python3"
  },
  "language_info": {
   "codemirror_mode": {
    "name": "ipython",
    "version": 3
   },
   "file_extension": ".py",
   "mimetype": "text/x-python",
   "name": "python",
   "nbconvert_exporter": "python",
   "pygments_lexer": "ipython3",
   "version": "3.8.0"
  }
 },
 "nbformat": 4,
 "nbformat_minor": 2
}
